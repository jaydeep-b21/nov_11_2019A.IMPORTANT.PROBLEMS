{
 "cells": [
  {
   "cell_type": "markdown",
   "metadata": {},
   "source": [
    "# (1) Create a simple clock."
   ]
  },
  {
   "cell_type": "markdown",
   "metadata": {},
   "source": [
    "HINT : Two things would be new for you here.\n",
    "\n",
    "Let’s talk about the global keyword first.\n",
    "\n",
    "Inside a function, you can use two types of variables: any variable declared inside the function or the parameter.\n",
    "\n",
    "If you want to set or update the value of any variable declared outside of the function, you can either pass it as a parameter. In that case, it will not update the value of the variable outside of the function. In the code below, you will have the value of x remained as 5.\n",
    "\n",
    "x = 5\n",
    " \n",
    "def double_global_x(x):\n",
    "    \n",
    " x = 2*x\n",
    "\n",
    " return x\n",
    "\n",
    " \n",
    "print('use global keyword')\n",
    "\n",
    "result = double_global_x(x)\n",
    "\n",
    "print(result)\n",
    "\n",
    "print('Updated value of x:', x)"
   ]
  },
  {
   "cell_type": "code",
   "execution_count": 1,
   "metadata": {},
   "outputs": [
    {
     "name": "stdout",
     "output_type": "stream",
     "text": [
      "Simple clock :\n",
      "\n",
      "Type in the current hour:23\n",
      "Type in the current minute:56\n",
      "Type in the current second:30\n",
      "\n",
      "\n",
      "23 : 56 : 31\n",
      "23 : 56 : 32\n",
      "23 : 56 : 33\n",
      "23 : 56 : 34\n",
      "23 : 56 : 35\n",
      "23 : 56 : 36\n",
      "23 : 56 : 37\n",
      "23 : 56 : 38\n",
      "23 : 56 : 39\n",
      "23 : 56 : 40\n",
      "23 : 56 : 41\n",
      "23 : 56 : 42\n",
      "23 : 56 : 43\n",
      "23 : 56 : 44\n",
      "23 : 56 : 45\n",
      "23 : 56 : 46\n",
      "23 : 56 : 47\n",
      "23 : 56 : 48\n",
      "23 : 56 : 49\n",
      "23 : 56 : 50\n",
      "23 : 56 : 51\n",
      "23 : 56 : 52\n",
      "23 : 56 : 53\n",
      "23 : 56 : 54\n",
      "23 : 56 : 55\n",
      "23 : 56 : 56\n",
      "23 : 56 : 57\n",
      "23 : 56 : 58\n",
      "23 : 56 : 59\n",
      "23 : 57 : 0\n",
      "23 : 57 : 1\n",
      "23 : 57 : 2\n",
      "23 : 57 : 3\n",
      "23 : 57 : 4\n",
      "23 : 57 : 5\n",
      "23 : 57 : 6\n",
      "23 : 57 : 7\n",
      "23 : 57 : 8\n",
      "23 : 57 : 9\n",
      "23 : 57 : 10\n",
      "23 : 57 : 11\n",
      "23 : 57 : 12\n",
      "23 : 57 : 13\n",
      "23 : 57 : 14\n",
      "23 : 57 : 15\n",
      "23 : 57 : 16\n",
      "23 : 57 : 17\n",
      "23 : 57 : 18\n",
      "23 : 57 : 19\n",
      "23 : 57 : 20\n",
      "23 : 57 : 21\n",
      "23 : 57 : 22\n",
      "23 : 57 : 23\n",
      "23 : 57 : 24\n",
      "23 : 57 : 25\n",
      "23 : 57 : 26\n",
      "23 : 57 : 27\n",
      "23 : 57 : 28\n",
      "23 : 57 : 29\n",
      "23 : 57 : 30\n",
      "23 : 57 : 31\n",
      "23 : 57 : 32\n",
      "23 : 57 : 33\n",
      "23 : 57 : 34\n",
      "23 : 57 : 35\n",
      "23 : 57 : 36\n",
      "23 : 57 : 37\n",
      "23 : 57 : 38\n",
      "23 : 57 : 39\n",
      "23 : 57 : 40\n",
      "23 : 57 : 41\n",
      "23 : 57 : 42\n",
      "23 : 57 : 43\n",
      "23 : 57 : 44\n",
      "23 : 57 : 45\n",
      "23 : 57 : 46\n",
      "23 : 57 : 47\n",
      "23 : 57 : 48\n",
      "23 : 57 : 49\n",
      "23 : 57 : 50\n",
      "23 : 57 : 51\n",
      "23 : 57 : 52\n",
      "23 : 57 : 53\n",
      "23 : 57 : 54\n",
      "23 : 57 : 55\n",
      "23 : 57 : 56\n",
      "23 : 57 : 57\n",
      "23 : 57 : 58\n",
      "23 : 57 : 59\n",
      "23 : 58 : 0\n",
      "23 : 58 : 1\n",
      "23 : 58 : 2\n",
      "23 : 58 : 3\n",
      "23 : 58 : 4\n",
      "23 : 58 : 5\n",
      "23 : 58 : 6\n",
      "23 : 58 : 7\n"
     ]
    },
    {
     "ename": "KeyboardInterrupt",
     "evalue": "",
     "output_type": "error",
     "traceback": [
      "\u001b[1;31m---------------------------------------------------------------------------\u001b[0m",
      "\u001b[1;31mKeyboardInterrupt\u001b[0m                         Traceback (most recent call last)",
      "\u001b[1;32m<ipython-input-1-46949db00bbc>\u001b[0m in \u001b[0;36m<module>\u001b[1;34m\u001b[0m\n\u001b[0;32m     27\u001b[0m \u001b[1;33m\u001b[0m\u001b[0m\n\u001b[0;32m     28\u001b[0m \u001b[1;32mwhile\u001b[0m \u001b[1;32mTrue\u001b[0m\u001b[1;33m:\u001b[0m\u001b[1;33m\u001b[0m\u001b[1;33m\u001b[0m\u001b[0m\n\u001b[1;32m---> 29\u001b[1;33m     \u001b[0mtime\u001b[0m\u001b[1;33m.\u001b[0m\u001b[0msleep\u001b[0m\u001b[1;33m(\u001b[0m\u001b[1;36m1\u001b[0m\u001b[1;33m)\u001b[0m\u001b[1;33m\u001b[0m\u001b[1;33m\u001b[0m\u001b[0m\n\u001b[0m\u001b[0;32m     30\u001b[0m     \u001b[0madd\u001b[0m\u001b[1;33m(\u001b[0m\u001b[1;33m)\u001b[0m\u001b[1;33m\u001b[0m\u001b[1;33m\u001b[0m\u001b[0m\n\u001b[0;32m     31\u001b[0m     \u001b[0mdisplay\u001b[0m\u001b[1;33m(\u001b[0m\u001b[1;33m)\u001b[0m\u001b[1;33m\u001b[0m\u001b[1;33m\u001b[0m\u001b[0m\n",
      "\u001b[1;31mKeyboardInterrupt\u001b[0m: "
     ]
    }
   ],
   "source": [
    "import time\n",
    " \n",
    "print('Simple clock :\\n')\n",
    " \n",
    "hour = int(input(\"Type in the current hour:\"))\n",
    "minute = int(input(\"Type in the current minute:\"))\n",
    "second = int(input(\"Type in the current second:\"))\n",
    " \n",
    "def display():\n",
    "    print(hour, ':', minute, ':', second)\n",
    "\n",
    "def add():\n",
    "    global hour\n",
    "    global minute\n",
    "    global second\n",
    "    second=second+1\n",
    "    if second==60:\n",
    "        minute=minute+1 \n",
    "        second=0\n",
    "    if minute==60:\n",
    "        hour=hour+1 \n",
    "        minute=0\n",
    "    if hour==24:\n",
    "        hour=0\n",
    "\n",
    "print('\\n')\n",
    "\n",
    "while True:\n",
    "    time.sleep(1)\n",
    "    add()\n",
    "    display()"
   ]
  },
  {
   "cell_type": "markdown",
   "metadata": {},
   "source": [
    "HOW THIS WORKS\n",
    "\n",
    "The code is simple...We imported the time module, then, asked the user for three inputs: for the current hour, minute, and second.\n",
    "\n",
    "Then, we have two methods: One to display hour, minute and second. Another, to add a second. We will look at the add method a little later. First, look at the bottom part.\n",
    "\n",
    "We have an infinite loop, because we don’t want the clock to stop. We want the clock to run forever until we stop it.\n",
    "\n",
    "And, inside the loop, we call the display and the add method and then, we call the time.sleep and pass 1.\n",
    "\n",
    "By default, the while loop runs immediately. However, inside the while loop, the first thing we have is the time.sleep(1). This is telling the loop to wait for 1 second. Then we are calling the add function. When add is done, we are calling the display function to display the hour, minute, and seconds.\n",
    "\n",
    "The add function is a bit interesting...\n",
    "\n",
    "We are accessing three global variables: hour, minute, and second, and we are increasing the second by 1.\n",
    "\n",
    "This is the main task. However, if the second becomes 60, we increase a minute and set second to 0, because 60 seconds are equal to a minute.\n",
    "\n",
    "Similarly, if the minute becomes 60, we add 1 hour and set minutes to 0, because 60 minutes is 1 hour.\n",
    "\n",
    "Finally, if the hour is 24, we reset the hour to 0. Because, in a digital clock, there are no 24 or 25 hours. After 23 hours, it becomes 0 hours again (the midnight!)"
   ]
  },
  {
   "cell_type": "markdown",
   "metadata": {},
   "source": [
    "# (2) Calculate how many days are remaining for the next birthday."
   ]
  },
  {
   "cell_type": "markdown",
   "metadata": {},
   "source": [
    "HINT:\n",
    "    Let’s say, you want to display 5 random numbers. You can write the code like below:\n",
    "\n",
    "import random\n",
    "\n",
    "print(random.randint(0,10))\n",
    "\n",
    "print(random.randint(10,20))\n",
    "\n",
    "print(random.randint(20,30))\n",
    "\n",
    "print(random.randint(30,40))\n",
    "\n",
    "print(random.randint(40,50))"
   ]
  },
  {
   "cell_type": "code",
   "execution_count": 2,
   "metadata": {},
   "outputs": [
    {
     "name": "stdout",
     "output_type": "stream",
     "text": [
      "Enter your birth date in DD/MM/YYYY: 21/01/1996\n",
      "Your birthday is coming in:  68  days\n"
     ]
    }
   ],
   "source": [
    "from datetime import datetime\n",
    "import time\n",
    "\n",
    "def get_user_birthday():\n",
    "    date_str = input(\"Enter your birth date in DD/MM/YYYY: \")\n",
    "    try:\n",
    "        birthday = datetime.strptime(date_str, \"%d/%m/%Y\")\n",
    "    except TypeError:\n",
    "        birthday = datetime.datetime(*(time.strptime(date_str, \"%d/%m/%Y\")[0:6]))\n",
    "    return birthday\n",
    "\n",
    "def days_remaining(birth_date):\n",
    "    now = datetime.now()\n",
    "    current_year = datetime(now.year, birth_date.month, birth_date.day)\n",
    "    days = (current_year - now).days\n",
    "    if days < 0:\n",
    "        next_year = datetime(now.year+1, birth_date.month, birth_date.day)\n",
    "        days = (next_year - now).days\n",
    "    return days\n",
    " \n",
    "birthday = get_user_birthday()\n",
    "next_birthday = days_remaining(birthday)\n",
    "print(\"Your birthday is coming in: \", next_birthday, \" days\")"
   ]
  },
  {
   "cell_type": "markdown",
   "metadata": {},
   "source": [
    "# (3) Take a birthday of a person and then calculate the age."
   ]
  },
  {
   "cell_type": "markdown",
   "metadata": {},
   "source": [
    "HINT: Take the user birthday. Use the same method that you used in the previous problem.\n",
    "\n",
    "Then, to calculate age, get the days and then divide the days by 365."
   ]
  },
  {
   "cell_type": "code",
   "execution_count": 3,
   "metadata": {},
   "outputs": [
    {
     "name": "stdout",
     "output_type": "stream",
     "text": [
      "Enter your birth date in DD/MM/YYYY: 21/01/1996\n",
      "Your age:  23\n"
     ]
    }
   ],
   "source": [
    "from datetime import datetime\n",
    "import time\n",
    "\n",
    "def calculate_age(born):\n",
    "    today = datetime.today()\n",
    "    days = (today-born).days\n",
    "    age = days // 365\n",
    "    return age\n",
    " \n",
    "def get_user_birthday():\n",
    "    date_str = input(\"Enter your birth date in DD/MM/YYYY: \")\n",
    "    try:\n",
    "        birthday = datetime.strptime(date_str, \"%d/%m/%Y\")\n",
    "    except TypeError:\n",
    "        birthday = datetime.datetime(*(time.strptime(date_str, \"%d/%m/%Y\")[0:6]))\n",
    "    return birthday\n",
    " \n",
    "birthday = get_user_birthday()\n",
    "age = calculate_age(birthday)\n",
    "print(\"Your age: \", age)"
   ]
  },
  {
   "cell_type": "code",
   "execution_count": null,
   "metadata": {},
   "outputs": [],
   "source": []
  }
 ],
 "metadata": {
  "kernelspec": {
   "display_name": "Python 3",
   "language": "python",
   "name": "python3"
  },
  "language_info": {
   "codemirror_mode": {
    "name": "ipython",
    "version": 3
   },
   "file_extension": ".py",
   "mimetype": "text/x-python",
   "name": "python",
   "nbconvert_exporter": "python",
   "pygments_lexer": "ipython3",
   "version": "3.7.3"
  }
 },
 "nbformat": 4,
 "nbformat_minor": 2
}
